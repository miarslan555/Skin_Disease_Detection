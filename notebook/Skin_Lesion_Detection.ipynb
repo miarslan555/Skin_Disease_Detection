{
  "nbformat": 4,
  "nbformat_minor": 0,
  "metadata": {
    "colab": {
      "provenance": [],
      "gpuType": "T4"
    },
    "kernelspec": {
      "name": "python3",
      "display_name": "Python 3"
    },
    "language_info": {
      "name": "python"
    },
    "accelerator": "GPU"
  },
  "cells": [
    {
      "cell_type": "code",
      "execution_count": 1,
      "metadata": {
        "colab": {
          "base_uri": "https://localhost:8080/"
        },
        "id": "E8eMgAAIuIMl",
        "outputId": "0ecd0c42-7ffa-48de-8002-18f166ce425c"
      },
      "outputs": [
        {
          "output_type": "stream",
          "name": "stdout",
          "text": [
            "\u001b[?25l   \u001b[90m━━━━━━━━━━━━━━━━━━━━━━━━━━━━━━━━━━━━━━━━\u001b[0m \u001b[32m0.0/1.8 MB\u001b[0m \u001b[31m?\u001b[0m eta \u001b[36m-:--:--\u001b[0m\r\u001b[2K   \u001b[91m━━━━━━━━━━━━━━━━━━━━━━━━━━━━━━━━━━━━━━━\u001b[0m\u001b[91m╸\u001b[0m \u001b[32m1.8/1.8 MB\u001b[0m \u001b[31m66.9 MB/s\u001b[0m eta \u001b[36m0:00:01\u001b[0m\r\u001b[2K   \u001b[90m━━━━━━━━━━━━━━━━━━━━━━━━━━━━━━━━━━━━━━━━\u001b[0m \u001b[32m1.8/1.8 MB\u001b[0m \u001b[31m43.8 MB/s\u001b[0m eta \u001b[36m0:00:00\u001b[0m\n",
            "\u001b[?25h"
          ]
        }
      ],
      "source": [
        "!pip install -q --upgrade pip\n",
        "!pip install -q timm albumentations==1.2.1 opencv-python-headless scikit-learn pandas matplotlib kaggle wandb\n"
      ]
    },
    {
      "cell_type": "code",
      "source": [
        "from google.colab import files\n",
        "files.upload()\n",
        "!mkdir -p ~/.kaggle\n",
        "!cp kaggle.json ~/.kaggle/\n",
        "!chmod 600 ~/.kaggle/kaggle.json"
      ],
      "metadata": {
        "colab": {
          "base_uri": "https://localhost:8080/",
          "height": 73
        },
        "id": "kCHlmTz0uffg",
        "outputId": "11e839b8-c47e-46da-f80e-8dc601219192"
      },
      "execution_count": 2,
      "outputs": [
        {
          "output_type": "display_data",
          "data": {
            "text/plain": [
              "<IPython.core.display.HTML object>"
            ],
            "text/html": [
              "\n",
              "     <input type=\"file\" id=\"files-71440467-e3dc-42e8-8137-b833020ae37e\" name=\"files[]\" multiple disabled\n",
              "        style=\"border:none\" />\n",
              "     <output id=\"result-71440467-e3dc-42e8-8137-b833020ae37e\">\n",
              "      Upload widget is only available when the cell has been executed in the\n",
              "      current browser session. Please rerun this cell to enable.\n",
              "      </output>\n",
              "      <script>// Copyright 2017 Google LLC\n",
              "//\n",
              "// Licensed under the Apache License, Version 2.0 (the \"License\");\n",
              "// you may not use this file except in compliance with the License.\n",
              "// You may obtain a copy of the License at\n",
              "//\n",
              "//      http://www.apache.org/licenses/LICENSE-2.0\n",
              "//\n",
              "// Unless required by applicable law or agreed to in writing, software\n",
              "// distributed under the License is distributed on an \"AS IS\" BASIS,\n",
              "// WITHOUT WARRANTIES OR CONDITIONS OF ANY KIND, either express or implied.\n",
              "// See the License for the specific language governing permissions and\n",
              "// limitations under the License.\n",
              "\n",
              "/**\n",
              " * @fileoverview Helpers for google.colab Python module.\n",
              " */\n",
              "(function(scope) {\n",
              "function span(text, styleAttributes = {}) {\n",
              "  const element = document.createElement('span');\n",
              "  element.textContent = text;\n",
              "  for (const key of Object.keys(styleAttributes)) {\n",
              "    element.style[key] = styleAttributes[key];\n",
              "  }\n",
              "  return element;\n",
              "}\n",
              "\n",
              "// Max number of bytes which will be uploaded at a time.\n",
              "const MAX_PAYLOAD_SIZE = 100 * 1024;\n",
              "\n",
              "function _uploadFiles(inputId, outputId) {\n",
              "  const steps = uploadFilesStep(inputId, outputId);\n",
              "  const outputElement = document.getElementById(outputId);\n",
              "  // Cache steps on the outputElement to make it available for the next call\n",
              "  // to uploadFilesContinue from Python.\n",
              "  outputElement.steps = steps;\n",
              "\n",
              "  return _uploadFilesContinue(outputId);\n",
              "}\n",
              "\n",
              "// This is roughly an async generator (not supported in the browser yet),\n",
              "// where there are multiple asynchronous steps and the Python side is going\n",
              "// to poll for completion of each step.\n",
              "// This uses a Promise to block the python side on completion of each step,\n",
              "// then passes the result of the previous step as the input to the next step.\n",
              "function _uploadFilesContinue(outputId) {\n",
              "  const outputElement = document.getElementById(outputId);\n",
              "  const steps = outputElement.steps;\n",
              "\n",
              "  const next = steps.next(outputElement.lastPromiseValue);\n",
              "  return Promise.resolve(next.value.promise).then((value) => {\n",
              "    // Cache the last promise value to make it available to the next\n",
              "    // step of the generator.\n",
              "    outputElement.lastPromiseValue = value;\n",
              "    return next.value.response;\n",
              "  });\n",
              "}\n",
              "\n",
              "/**\n",
              " * Generator function which is called between each async step of the upload\n",
              " * process.\n",
              " * @param {string} inputId Element ID of the input file picker element.\n",
              " * @param {string} outputId Element ID of the output display.\n",
              " * @return {!Iterable<!Object>} Iterable of next steps.\n",
              " */\n",
              "function* uploadFilesStep(inputId, outputId) {\n",
              "  const inputElement = document.getElementById(inputId);\n",
              "  inputElement.disabled = false;\n",
              "\n",
              "  const outputElement = document.getElementById(outputId);\n",
              "  outputElement.innerHTML = '';\n",
              "\n",
              "  const pickedPromise = new Promise((resolve) => {\n",
              "    inputElement.addEventListener('change', (e) => {\n",
              "      resolve(e.target.files);\n",
              "    });\n",
              "  });\n",
              "\n",
              "  const cancel = document.createElement('button');\n",
              "  inputElement.parentElement.appendChild(cancel);\n",
              "  cancel.textContent = 'Cancel upload';\n",
              "  const cancelPromise = new Promise((resolve) => {\n",
              "    cancel.onclick = () => {\n",
              "      resolve(null);\n",
              "    };\n",
              "  });\n",
              "\n",
              "  // Wait for the user to pick the files.\n",
              "  const files = yield {\n",
              "    promise: Promise.race([pickedPromise, cancelPromise]),\n",
              "    response: {\n",
              "      action: 'starting',\n",
              "    }\n",
              "  };\n",
              "\n",
              "  cancel.remove();\n",
              "\n",
              "  // Disable the input element since further picks are not allowed.\n",
              "  inputElement.disabled = true;\n",
              "\n",
              "  if (!files) {\n",
              "    return {\n",
              "      response: {\n",
              "        action: 'complete',\n",
              "      }\n",
              "    };\n",
              "  }\n",
              "\n",
              "  for (const file of files) {\n",
              "    const li = document.createElement('li');\n",
              "    li.append(span(file.name, {fontWeight: 'bold'}));\n",
              "    li.append(span(\n",
              "        `(${file.type || 'n/a'}) - ${file.size} bytes, ` +\n",
              "        `last modified: ${\n",
              "            file.lastModifiedDate ? file.lastModifiedDate.toLocaleDateString() :\n",
              "                                    'n/a'} - `));\n",
              "    const percent = span('0% done');\n",
              "    li.appendChild(percent);\n",
              "\n",
              "    outputElement.appendChild(li);\n",
              "\n",
              "    const fileDataPromise = new Promise((resolve) => {\n",
              "      const reader = new FileReader();\n",
              "      reader.onload = (e) => {\n",
              "        resolve(e.target.result);\n",
              "      };\n",
              "      reader.readAsArrayBuffer(file);\n",
              "    });\n",
              "    // Wait for the data to be ready.\n",
              "    let fileData = yield {\n",
              "      promise: fileDataPromise,\n",
              "      response: {\n",
              "        action: 'continue',\n",
              "      }\n",
              "    };\n",
              "\n",
              "    // Use a chunked sending to avoid message size limits. See b/62115660.\n",
              "    let position = 0;\n",
              "    do {\n",
              "      const length = Math.min(fileData.byteLength - position, MAX_PAYLOAD_SIZE);\n",
              "      const chunk = new Uint8Array(fileData, position, length);\n",
              "      position += length;\n",
              "\n",
              "      const base64 = btoa(String.fromCharCode.apply(null, chunk));\n",
              "      yield {\n",
              "        response: {\n",
              "          action: 'append',\n",
              "          file: file.name,\n",
              "          data: base64,\n",
              "        },\n",
              "      };\n",
              "\n",
              "      let percentDone = fileData.byteLength === 0 ?\n",
              "          100 :\n",
              "          Math.round((position / fileData.byteLength) * 100);\n",
              "      percent.textContent = `${percentDone}% done`;\n",
              "\n",
              "    } while (position < fileData.byteLength);\n",
              "  }\n",
              "\n",
              "  // All done.\n",
              "  yield {\n",
              "    response: {\n",
              "      action: 'complete',\n",
              "    }\n",
              "  };\n",
              "}\n",
              "\n",
              "scope.google = scope.google || {};\n",
              "scope.google.colab = scope.google.colab || {};\n",
              "scope.google.colab._files = {\n",
              "  _uploadFiles,\n",
              "  _uploadFilesContinue,\n",
              "};\n",
              "})(self);\n",
              "</script> "
            ]
          },
          "metadata": {}
        },
        {
          "output_type": "stream",
          "name": "stdout",
          "text": [
            "Saving kaggle.json to kaggle.json\n"
          ]
        }
      ]
    },
    {
      "cell_type": "markdown",
      "source": [
        "**Download HAM10000 Dataset**"
      ],
      "metadata": {
        "id": "gQ29inbtumDk"
      }
    },
    {
      "cell_type": "code",
      "source": [
        "!kaggle datasets download -d kmader/skin-cancer-mnist-ham10000\n",
        "!unzip -q skin-cancer-mnist-ham10000.zip -d /content/ham10000\n",
        "print(\"✅ Dataset downloaded and unzipped successfully in main directory!\")"
      ],
      "metadata": {
        "colab": {
          "base_uri": "https://localhost:8080/"
        },
        "id": "U3A9obRiulKk",
        "outputId": "2404f287-80d2-4298-e374-8c35e4f75585"
      },
      "execution_count": 4,
      "outputs": [
        {
          "output_type": "stream",
          "name": "stdout",
          "text": [
            "Dataset URL: https://www.kaggle.com/datasets/kmader/skin-cancer-mnist-ham10000\n",
            "License(s): CC-BY-NC-SA-4.0\n",
            "Downloading skin-cancer-mnist-ham10000.zip to /content\n",
            "100% 5.19G/5.20G [02:30<00:00, 60.7MB/s]\n",
            "100% 5.20G/5.20G [02:30<00:00, 37.0MB/s]\n",
            "✅ Dataset downloaded and unzipped successfully in main directory!\n"
          ]
        }
      ]
    },
    {
      "cell_type": "code",
      "source": [],
      "metadata": {
        "id": "aA3RS-UUyDhN"
      },
      "execution_count": null,
      "outputs": []
    },
    {
      "cell_type": "code",
      "source": [
        "DATA_DIR = \"/content/ham10000\"\n",
        "\n",
        "df = pd.read_csv(\"/content/ham10000/HAM10000_metadata.csv\")\n",
        "\n",
        "print(\"Metadata file:\", meta_file)\n",
        "print(df.head())\n"
      ],
      "metadata": {
        "colab": {
          "base_uri": "https://localhost:8080/"
        },
        "id": "v_YRdD1OxnZO",
        "outputId": "d3539d0d-dbe6-4b8b-87e6-f2b68f44bb67"
      },
      "execution_count": 19,
      "outputs": [
        {
          "output_type": "stream",
          "name": "stdout",
          "text": [
            "Metadata file: /content/ham10000/HAM10000_metadata.csv\n",
            "     lesion_id      image_id   dx dx_type   age   sex localization\n",
            "0  HAM_0000118  ISIC_0027419  bkl   histo  80.0  male        scalp\n",
            "1  HAM_0000118  ISIC_0025030  bkl   histo  80.0  male        scalp\n",
            "2  HAM_0002730  ISIC_0026769  bkl   histo  80.0  male        scalp\n",
            "3  HAM_0002730  ISIC_0025661  bkl   histo  80.0  male        scalp\n",
            "4  HAM_0001466  ISIC_0031633  bkl   histo  75.0  male          ear\n"
          ]
        }
      ]
    },
    {
      "cell_type": "code",
      "source": [
        "# Colab-ready training script for HAM10000 (PyTorch)\n",
        "import os\n",
        "import random\n",
        "import numpy as np\n",
        "from glob import glob\n",
        "import pandas as pd\n",
        "from sklearn.model_selection import StratifiedKFold, train_test_split\n",
        "from sklearn.metrics import classification_report, confusion_matrix\n",
        "from tqdm import tqdm\n",
        "\n",
        "import torch\n",
        "import torch.nn as nn\n",
        "from torch.utils.data import Dataset, DataLoader, WeightedRandomSampler\n",
        "import torchvision.transforms as T\n",
        "import timm\n",
        "import albumentations as A\n",
        "from albumentations.pytorch import ToTensorV2\n",
        "\n",
        "# Mixed precision\n",
        "from torch.cuda.amp import autocast, GradScaler\n",
        "\n",
        "# ---------- SETTINGS ----------\n",
        "DATA_DIR = \"/content/ham10000\"  # update to your mounted dataset\n",
        "# --- FIX: Define paths for both image folders ---\n",
        "IMG_DIR_1 = os.path.join(DATA_DIR, \"HAM10000_images_part_1\")\n",
        "IMG_DIR_2 = os.path.join(DATA_DIR, \"HAM10000_images_part_2\")\n",
        "META_CSV = os.path.join(DATA_DIR, \"HAM10000_metadata.csv\")  # update if needed\n",
        "IMG_SIZE = 300                # EfficientNetB3 -> 300\n",
        "BATCH_SIZE = 16\n",
        "NUM_WORKERS = 2\n",
        "SEED = 42\n",
        "EPOCHS_HEAD = 6\n",
        "EPOCHS_FINETUNE = 25\n",
        "DEVICE = \"cuda\" if torch.cuda.is_available() else \"cpu\"\n",
        "MODEL_NAME = \"tf_efficientnet_b3_ns\"  # timm name (EfficientNet-B3)\n",
        "NUM_CLASSES = 7\n",
        "SAVE_PATH = \"/content/ham10000_checkpoints\"  # optional\n",
        "os.makedirs(SAVE_PATH, exist_ok=True)\n",
        "USE_MIXUP = False  # toggle MixUp/CutMix\n",
        "# ------------------------------\n",
        "\n",
        "def seed_everything(seed=SEED):\n",
        "    random.seed(seed); np.random.seed(seed); torch.manual_seed(seed)\n",
        "    torch.cuda.manual_seed_all(seed)\n",
        "\n",
        "seed_everything()\n",
        "\n",
        "# ------ Load metadata & prepare splits ------\n",
        "meta = pd.read_csv(META_CSV)\n",
        "# Ensure the CSV has columns: 'image_id' and 'dx' (diagnosis/class); adjust if different.\n",
        "# Map classes to numeric labels:\n",
        "label_map = {k:i for i,k in enumerate(meta['dx'].unique())}\n",
        "meta['label'] = meta['dx'].map(label_map)\n",
        "# create train/val split (stratified)\n",
        "train_df, val_df = train_test_split(meta, test_size=0.2, stratify=meta['label'], random_state=SEED)\n",
        "train_df = train_df.reset_index(drop=True)\n",
        "val_df = val_df.reset_index(drop=True)\n",
        "\n",
        "# ---------- Dataset ----------\n",
        "# --- FIX: Modified HAMDataset to check both image directories ---\n",
        "class HAMDataset(Dataset):\n",
        "    def __init__(self, df, img_dir1, img_dir2, transforms=None, img_size=IMG_SIZE):\n",
        "        self.df = df\n",
        "        self.img_dir1 = img_dir1\n",
        "        self.img_dir2 = img_dir2\n",
        "        self.transforms = transforms\n",
        "        self.img_size = img_size\n",
        "\n",
        "    def __len__(self): return len(self.df)\n",
        "    def __getitem__(self, idx):\n",
        "        row = self.df.iloc[idx]\n",
        "        img_id = row['image_id']\n",
        "\n",
        "        # Construct path for both directories\n",
        "        path1 = os.path.join(self.img_dir1, img_id + \".jpg\")\n",
        "        path2 = os.path.join(self.img_dir2, img_id + \".jpg\")\n",
        "\n",
        "        # Check which path exists and set the final img_path\n",
        "        if os.path.exists(path1):\n",
        "            img_path = path1\n",
        "        elif os.path.exists(path2):\n",
        "            img_path = path2\n",
        "        else:\n",
        "            # If the image is not found in either directory, raise an error\n",
        "            raise FileNotFoundError(f\"Image not found in {self.img_dir1} or {self.img_dir2} for ID: {img_id}\")\n",
        "\n",
        "        # read with cv2 for albumentations\n",
        "        import cv2\n",
        "        img = cv2.imread(img_path)\n",
        "        if img is None:\n",
        "            raise FileNotFoundError(f\"cv2 failed to read image at path: {img_path}\")\n",
        "        img = cv2.cvtColor(img, cv2.COLOR_BGR2RGB)\n",
        "        if self.transforms:\n",
        "            img = self.transforms(image=img)['image']\n",
        "        label = int(row['label'])\n",
        "        return img, label\n",
        "\n",
        "# ---------- Augmentations ----------\n",
        "train_transforms = A.Compose([\n",
        "    A.RandomResizedCrop(IMG_SIZE, IMG_SIZE, scale=(0.7,1.0), p=0.7),\n",
        "    A.Resize(IMG_SIZE, IMG_SIZE),\n",
        "    A.HorizontalFlip(p=0.5),\n",
        "    A.VerticalFlip(p=0.2),\n",
        "    A.Rotate(limit=45, p=0.5),\n",
        "    A.RandomBrightnessContrast(p=0.5),\n",
        "    A.HueSaturationValue(p=0.3),\n",
        "    A.ShiftScaleRotate(shift_limit=0.0625, scale_limit=0.1, rotate_limit=0, p=0.4),\n",
        "    A.CoarseDropout(max_holes=1, max_height=int(IMG_SIZE*0.12), max_width=int(IMG_SIZE*0.12), p=0.3),\n",
        "    A.Normalize(), ToTensorV2()\n",
        "])\n",
        "\n",
        "valid_transforms = A.Compose([A.Resize(IMG_SIZE, IMG_SIZE), A.Normalize(), ToTensorV2()])\n",
        "\n",
        "# --- FIX: Pass both image directory paths to the Dataset instances ---\n",
        "train_ds = HAMDataset(train_df, IMG_DIR_1, IMG_DIR_2, transforms=train_transforms)\n",
        "val_ds = HAMDataset(val_df, IMG_DIR_1, IMG_DIR_2, transforms=valid_transforms)\n",
        "\n",
        "\n",
        "# Weighted sampler to address class imbalance\n",
        "class_counts = train_df['label'].value_counts().sort_index().values\n",
        "class_weights = 1.0 / (class_counts + 1e-6)\n",
        "sample_weights = train_df['label'].map(lambda x: class_weights[x]).values\n",
        "sampler = WeightedRandomSampler(sample_weights, num_samples=len(sample_weights), replacement=True)\n",
        "\n",
        "train_loader = DataLoader(train_ds, batch_size=BATCH_SIZE, sampler=sampler, num_workers=NUM_WORKERS)\n",
        "val_loader = DataLoader(val_ds, batch_size=BATCH_SIZE, shuffle=False, num_workers=NUM_WORKERS)\n",
        "\n",
        "# ---------- Model ----------\n",
        "def create_model(model_name=MODEL_NAME, n_classes=NUM_CLASSES, pretrained=True):\n",
        "    model = timm.create_model(model_name, pretrained=pretrained, num_classes=n_classes)\n",
        "    return model\n",
        "\n",
        "model = create_model().to(DEVICE)\n",
        "\n",
        "# ---------- Loss, optimizer, scheduler ----------\n",
        "# class_weights for loss:\n",
        "cw = torch.tensor(class_weights, dtype=torch.float).to(DEVICE)\n",
        "criterion = nn.CrossEntropyLoss(weight=cw)\n",
        "\n",
        "# Optimizer and scheduler (use AdamW)\n",
        "optimizer = torch.optim.AdamW(model.parameters(), lr=1e-3, weight_decay=1e-4)\n",
        "scheduler = torch.optim.lr_scheduler.ReduceLROnPlateau(optimizer, mode='max', factor=0.5, patience=3)\n",
        "\n",
        "scaler = GradScaler()\n",
        "\n",
        "# ---------- Training & Evaluation Helpers ----------\n",
        "def train_one_epoch(loader, model, optimizer, criterion, device, epoch, scaler):\n",
        "    model.train()\n",
        "    running_loss = 0.0\n",
        "    correct = 0\n",
        "    total = 0\n",
        "    for imgs, labels in tqdm(loader, desc=f\"Train E{epoch}\"):\n",
        "        imgs = imgs.to(device)\n",
        "        labels = labels.to(device)\n",
        "        optimizer.zero_grad()\n",
        "        with autocast():\n",
        "            outputs = model(imgs)\n",
        "            loss = criterion(outputs, labels)\n",
        "        scaler.scale(loss).backward()\n",
        "        scaler.step(optimizer)\n",
        "        scaler.update()\n",
        "        running_loss += loss.item() * imgs.size(0)\n",
        "        preds = outputs.argmax(dim=1)\n",
        "        correct += (preds == labels).sum().item()\n",
        "        total += imgs.size(0)\n",
        "    return running_loss/total, correct/total\n",
        "\n",
        "@torch.no_grad()\n",
        "def validate(loader, model, criterion, device):\n",
        "    model.eval()\n",
        "    running_loss = 0.0\n",
        "    all_preds, all_labels = [], []\n",
        "    for imgs, labels in tqdm(loader, desc=\"Val\"):\n",
        "        imgs = imgs.to(device)\n",
        "        labels = labels.to(device)\n",
        "        with autocast():\n",
        "            outputs = model(imgs)\n",
        "            loss = criterion(outputs, labels)\n",
        "        running_loss += loss.item() * imgs.size(0)\n",
        "        all_preds.append(outputs.argmax(dim=1).cpu().numpy())\n",
        "        all_labels.append(labels.cpu().numpy())\n",
        "    all_preds = np.concatenate(all_preds)\n",
        "    all_labels = np.concatenate(all_labels)\n",
        "    acc = (all_preds == all_labels).mean()\n",
        "    report = classification_report(all_labels, all_preds, output_dict=True, zero_division=0)\n",
        "    macro_f1 = report['macro avg']['f1-score']\n",
        "    return running_loss/len(loader.dataset), acc, macro_f1, report\n",
        "\n",
        "# ---------- Train loop (freeze head then fine-tune) ----------\n",
        "# Freeze backbone: set requires_grad False for base parameters except classifier head\n",
        "def freeze_backbone(m):\n",
        "    for name, p in m.named_parameters():\n",
        "        if 'classifier' not in name and 'head' not in name and 'fc' not in name:\n",
        "            p.requires_grad = False\n",
        "\n",
        "def unfreeze_all(m):\n",
        "    for p in m.parameters(): p.requires_grad = True\n",
        "\n",
        "# Example: freeze all except final classifier head\n",
        "try:\n",
        "    # try common classifier names\n",
        "    for name, p in model.named_parameters():\n",
        "        if 'classifier' in name or 'head' in name or 'fc' in name:\n",
        "            p.requires_grad = True\n",
        "        else:\n",
        "            p.requires_grad = False\n",
        "except:\n",
        "    pass\n",
        "\n",
        "best_val_f1 = 0.0\n",
        "patience = 6\n",
        "stale = 0\n",
        "\n",
        "# Train head\n",
        "for epoch in range(1, EPOCHS_HEAD + 1):\n",
        "    train_loss, train_acc = train_one_epoch(train_loader, model, optimizer, criterion, DEVICE, epoch, scaler)\n",
        "    val_loss, val_acc, val_f1, report = validate(val_loader, model, criterion, DEVICE)\n",
        "    print(f\"[HEAD] E{epoch} train_loss:{train_loss:.4f} acc:{train_acc:.4f} | val_loss:{val_loss:.4f} acc:{val_acc:.4f} f1:{val_f1:.4f}\")\n",
        "    scheduler.step(val_f1)\n",
        "    if val_f1 > best_val_f1:\n",
        "        best_val_f1 = val_f1\n",
        "        torch.save(model.state_dict(), os.path.join(SAVE_PATH, \"best_head.pth\"))\n",
        "        stale = 0\n",
        "    else:\n",
        "        stale += 1\n",
        "    if stale >= patience:\n",
        "        print(\"Early stopping head training\")\n",
        "        break\n",
        "\n",
        "# Fine-tune: unfreeze all, lower LR\n",
        "unfreeze_all(model)\n",
        "optimizer = torch.optim.AdamW(model.parameters(), lr=1e-4, weight_decay=1e-4)\n",
        "scaler = GradScaler()\n",
        "stale = 0\n",
        "\n",
        "for epoch in range(1, EPOCHS_FINETUNE + 1):\n",
        "    train_loss, train_acc = train_one_epoch(train_loader, model, optimizer, criterion, DEVICE, epoch, scaler)\n",
        "    val_loss, val_acc, val_f1, report = validate(val_loader, model, criterion, DEVICE)\n",
        "    print(f\"[FT] E{epoch} train_loss:{train_loss:.4f} acc:{train_acc:.4f} | val_loss:{val_loss:.4f} acc:{val_acc:.4f} f1:{val_f1:.4f}\")\n",
        "    scheduler.step(val_f1)\n",
        "    if val_f1 > best_val_f1:\n",
        "        best_val_f1 = val_f1\n",
        "        torch.save(model.state_dict(), os.path.join(SAVE_PATH, \"best_finetune.pth\"))\n",
        "        stale = 0\n",
        "    else:\n",
        "        stale += 1\n",
        "    if stale >= patience:\n",
        "        print(\"Early stopping fine-tuning\")\n",
        "        break\n",
        "\n",
        "# Final evaluation: load best and print classification report\n",
        "print(\"Best val macro F1:\", best_val_f1)\n",
        "model.load_state_dict(torch.load(os.path.join(SAVE_PATH, \"best_finetune.pth\")))\n",
        "_, val_acc, val_f1, report = validate(val_loader, model, criterion, DEVICE)\n",
        "print(\"Final val acc:\", val_acc, \"val f1:\", val_f1)\n",
        "print(classification_report(val_df['label'],\n",
        "                            (lambda x: np.concatenate(x))( [np.zeros(len(val_df))] ), # placeholder\n",
        "                            target_names=[k for k in label_map.keys()], zero_division=0))\n",
        "# (Note: above print is a placeholder; you can reconstruct preds via a final inference pass)"
      ],
      "metadata": {
        "colab": {
          "base_uri": "https://localhost:8080/"
        },
        "id": "qA9qoLKsDbIm",
        "outputId": "0d84b031-c3ba-4e05-df01-e2b7e96230c6"
      },
      "execution_count": 62,
      "outputs": [
        {
          "output_type": "stream",
          "name": "stderr",
          "text": [
            "/usr/local/lib/python3.12/dist-packages/timm/models/_factory.py:138: UserWarning: Mapping deprecated model name tf_efficientnet_b3_ns to current tf_efficientnet_b3.ns_jft_in1k.\n",
            "  model = create_fn(\n",
            "/tmp/ipython-input-1058869070.py:144: FutureWarning: `torch.cuda.amp.GradScaler(args...)` is deprecated. Please use `torch.amp.GradScaler('cuda', args...)` instead.\n",
            "  scaler = GradScaler()\n",
            "Train E1:   0%|          | 0/501 [00:00<?, ?it/s]/tmp/ipython-input-1058869070.py:156: FutureWarning: `torch.cuda.amp.autocast(args...)` is deprecated. Please use `torch.amp.autocast('cuda', args...)` instead.\n",
            "  with autocast():\n",
            "Train E1: 100%|██████████| 501/501 [01:29<00:00,  5.60it/s]\n",
            "Val:   0%|          | 0/126 [00:00<?, ?it/s]/tmp/ipython-input-1058869070.py:176: FutureWarning: `torch.cuda.amp.autocast(args...)` is deprecated. Please use `torch.amp.autocast('cuda', args...)` instead.\n",
            "  with autocast():\n",
            "Val: 100%|██████████| 126/126 [00:21<00:00,  5.84it/s]\n"
          ]
        },
        {
          "output_type": "stream",
          "name": "stdout",
          "text": [
            "[HEAD] E1 train_loss:1.0953 acc:0.4596 | val_loss:1.8578 acc:0.3645 f1:0.3303\n"
          ]
        },
        {
          "output_type": "stream",
          "name": "stderr",
          "text": [
            "Train E2:   0%|          | 0/501 [00:00<?, ?it/s]/tmp/ipython-input-1058869070.py:156: FutureWarning: `torch.cuda.amp.autocast(args...)` is deprecated. Please use `torch.amp.autocast('cuda', args...)` instead.\n",
            "  with autocast():\n",
            "Train E2: 100%|██████████| 501/501 [01:24<00:00,  5.95it/s]\n",
            "Val:   0%|          | 0/126 [00:00<?, ?it/s]/tmp/ipython-input-1058869070.py:176: FutureWarning: `torch.cuda.amp.autocast(args...)` is deprecated. Please use `torch.amp.autocast('cuda', args...)` instead.\n",
            "  with autocast():\n",
            "Val: 100%|██████████| 126/126 [00:17<00:00,  7.36it/s]\n"
          ]
        },
        {
          "output_type": "stream",
          "name": "stdout",
          "text": [
            "[HEAD] E2 train_loss:0.7688 acc:0.5505 | val_loss:1.5018 acc:0.3909 f1:0.3482\n"
          ]
        },
        {
          "output_type": "stream",
          "name": "stderr",
          "text": [
            "Train E3:   0%|          | 0/501 [00:00<?, ?it/s]/tmp/ipython-input-1058869070.py:156: FutureWarning: `torch.cuda.amp.autocast(args...)` is deprecated. Please use `torch.amp.autocast('cuda', args...)` instead.\n",
            "  with autocast():\n",
            "Train E3: 100%|██████████| 501/501 [01:20<00:00,  6.20it/s]\n",
            "Val:   0%|          | 0/126 [00:00<?, ?it/s]/tmp/ipython-input-1058869070.py:176: FutureWarning: `torch.cuda.amp.autocast(args...)` is deprecated. Please use `torch.amp.autocast('cuda', args...)` instead.\n",
            "  with autocast():\n",
            "Val: 100%|██████████| 126/126 [00:18<00:00,  6.87it/s]\n"
          ]
        },
        {
          "output_type": "stream",
          "name": "stdout",
          "text": [
            "[HEAD] E3 train_loss:0.6287 acc:0.5891 | val_loss:1.2427 acc:0.4853 f1:0.4075\n"
          ]
        },
        {
          "output_type": "stream",
          "name": "stderr",
          "text": [
            "Train E4:   0%|          | 0/501 [00:00<?, ?it/s]/tmp/ipython-input-1058869070.py:156: FutureWarning: `torch.cuda.amp.autocast(args...)` is deprecated. Please use `torch.amp.autocast('cuda', args...)` instead.\n",
            "  with autocast():\n",
            "Train E4: 100%|██████████| 501/501 [01:23<00:00,  6.01it/s]\n",
            "Val:   0%|          | 0/126 [00:00<?, ?it/s]/tmp/ipython-input-1058869070.py:176: FutureWarning: `torch.cuda.amp.autocast(args...)` is deprecated. Please use `torch.amp.autocast('cuda', args...)` instead.\n",
            "  with autocast():\n",
            "Val: 100%|██████████| 126/126 [00:16<00:00,  7.48it/s]\n"
          ]
        },
        {
          "output_type": "stream",
          "name": "stdout",
          "text": [
            "[HEAD] E4 train_loss:0.5145 acc:0.6229 | val_loss:1.3081 acc:0.4618 f1:0.4256\n"
          ]
        },
        {
          "output_type": "stream",
          "name": "stderr",
          "text": [
            "Train E5:   0%|          | 0/501 [00:00<?, ?it/s]/tmp/ipython-input-1058869070.py:156: FutureWarning: `torch.cuda.amp.autocast(args...)` is deprecated. Please use `torch.amp.autocast('cuda', args...)` instead.\n",
            "  with autocast():\n",
            "Train E5: 100%|██████████| 501/501 [01:23<00:00,  6.01it/s]\n",
            "Val:   0%|          | 0/126 [00:00<?, ?it/s]/tmp/ipython-input-1058869070.py:176: FutureWarning: `torch.cuda.amp.autocast(args...)` is deprecated. Please use `torch.amp.autocast('cuda', args...)` instead.\n",
            "  with autocast():\n",
            "Val: 100%|██████████| 126/126 [00:16<00:00,  7.47it/s]\n"
          ]
        },
        {
          "output_type": "stream",
          "name": "stdout",
          "text": [
            "[HEAD] E5 train_loss:0.4950 acc:0.6258 | val_loss:1.2108 acc:0.5012 f1:0.4069\n"
          ]
        },
        {
          "output_type": "stream",
          "name": "stderr",
          "text": [
            "Train E6:   0%|          | 0/501 [00:00<?, ?it/s]/tmp/ipython-input-1058869070.py:156: FutureWarning: `torch.cuda.amp.autocast(args...)` is deprecated. Please use `torch.amp.autocast('cuda', args...)` instead.\n",
            "  with autocast():\n",
            "Train E6: 100%|██████████| 501/501 [01:24<00:00,  5.92it/s]\n",
            "Val:   0%|          | 0/126 [00:00<?, ?it/s]/tmp/ipython-input-1058869070.py:176: FutureWarning: `torch.cuda.amp.autocast(args...)` is deprecated. Please use `torch.amp.autocast('cuda', args...)` instead.\n",
            "  with autocast():\n",
            "Val: 100%|██████████| 126/126 [00:16<00:00,  7.48it/s]\n",
            "/tmp/ipython-input-1058869070.py:233: FutureWarning: `torch.cuda.amp.GradScaler(args...)` is deprecated. Please use `torch.amp.GradScaler('cuda', args...)` instead.\n",
            "  scaler = GradScaler()\n"
          ]
        },
        {
          "output_type": "stream",
          "name": "stdout",
          "text": [
            "[HEAD] E6 train_loss:0.4479 acc:0.6493 | val_loss:1.1675 acc:0.5102 f1:0.4323\n"
          ]
        },
        {
          "output_type": "stream",
          "name": "stderr",
          "text": [
            "\rTrain E1:   0%|          | 0/501 [00:00<?, ?it/s]/tmp/ipython-input-1058869070.py:156: FutureWarning: `torch.cuda.amp.autocast(args...)` is deprecated. Please use `torch.amp.autocast('cuda', args...)` instead.\n",
            "  with autocast():\n",
            "Train E1: 100%|██████████| 501/501 [02:04<00:00,  4.03it/s]\n",
            "Val:   0%|          | 0/126 [00:00<?, ?it/s]/tmp/ipython-input-1058869070.py:176: FutureWarning: `torch.cuda.amp.autocast(args...)` is deprecated. Please use `torch.amp.autocast('cuda', args...)` instead.\n",
            "  with autocast():\n",
            "Val: 100%|██████████| 126/126 [00:16<00:00,  7.51it/s]\n"
          ]
        },
        {
          "output_type": "stream",
          "name": "stdout",
          "text": [
            "[FT] E1 train_loss:0.3209 acc:0.7089 | val_loss:0.9301 acc:0.5716 f1:0.5020\n"
          ]
        },
        {
          "output_type": "stream",
          "name": "stderr",
          "text": [
            "\rTrain E2:   0%|          | 0/501 [00:00<?, ?it/s]/tmp/ipython-input-1058869070.py:156: FutureWarning: `torch.cuda.amp.autocast(args...)` is deprecated. Please use `torch.amp.autocast('cuda', args...)` instead.\n",
            "  with autocast():\n",
            "Train E2: 100%|██████████| 501/501 [01:48<00:00,  4.63it/s]\n",
            "Val:   0%|          | 0/126 [00:00<?, ?it/s]/tmp/ipython-input-1058869070.py:176: FutureWarning: `torch.cuda.amp.autocast(args...)` is deprecated. Please use `torch.amp.autocast('cuda', args...)` instead.\n",
            "  with autocast():\n",
            "Val: 100%|██████████| 126/126 [00:17<00:00,  7.21it/s]\n"
          ]
        },
        {
          "output_type": "stream",
          "name": "stdout",
          "text": [
            "[FT] E2 train_loss:0.2076 acc:0.7728 | val_loss:0.8735 acc:0.5986 f1:0.5397\n"
          ]
        },
        {
          "output_type": "stream",
          "name": "stderr",
          "text": [
            "\rTrain E3:   0%|          | 0/501 [00:00<?, ?it/s]/tmp/ipython-input-1058869070.py:156: FutureWarning: `torch.cuda.amp.autocast(args...)` is deprecated. Please use `torch.amp.autocast('cuda', args...)` instead.\n",
            "  with autocast():\n",
            "Train E3: 100%|██████████| 501/501 [01:49<00:00,  4.57it/s]\n",
            "Val:   0%|          | 0/126 [00:00<?, ?it/s]/tmp/ipython-input-1058869070.py:176: FutureWarning: `torch.cuda.amp.autocast(args...)` is deprecated. Please use `torch.amp.autocast('cuda', args...)` instead.\n",
            "  with autocast():\n",
            "Val: 100%|██████████| 126/126 [00:16<00:00,  7.45it/s]\n"
          ]
        },
        {
          "output_type": "stream",
          "name": "stdout",
          "text": [
            "[FT] E3 train_loss:0.1550 acc:0.8097 | val_loss:0.8045 acc:0.6440 f1:0.5731\n"
          ]
        },
        {
          "output_type": "stream",
          "name": "stderr",
          "text": [
            "\rTrain E4:   0%|          | 0/501 [00:00<?, ?it/s]/tmp/ipython-input-1058869070.py:156: FutureWarning: `torch.cuda.amp.autocast(args...)` is deprecated. Please use `torch.amp.autocast('cuda', args...)` instead.\n",
            "  with autocast():\n",
            "Train E4: 100%|██████████| 501/501 [01:48<00:00,  4.62it/s]\n",
            "Val:   0%|          | 0/126 [00:00<?, ?it/s]/tmp/ipython-input-1058869070.py:176: FutureWarning: `torch.cuda.amp.autocast(args...)` is deprecated. Please use `torch.amp.autocast('cuda', args...)` instead.\n",
            "  with autocast():\n",
            "Val: 100%|██████████| 126/126 [00:18<00:00,  6.92it/s]\n"
          ]
        },
        {
          "output_type": "stream",
          "name": "stdout",
          "text": [
            "[FT] E4 train_loss:0.1275 acc:0.8361 | val_loss:0.7519 acc:0.6875 f1:0.6362\n"
          ]
        },
        {
          "output_type": "stream",
          "name": "stderr",
          "text": [
            "\rTrain E5:   0%|          | 0/501 [00:00<?, ?it/s]/tmp/ipython-input-1058869070.py:156: FutureWarning: `torch.cuda.amp.autocast(args...)` is deprecated. Please use `torch.amp.autocast('cuda', args...)` instead.\n",
            "  with autocast():\n",
            "Train E5: 100%|██████████| 501/501 [01:49<00:00,  4.58it/s]\n",
            "Val:   0%|          | 0/126 [00:00<?, ?it/s]/tmp/ipython-input-1058869070.py:176: FutureWarning: `torch.cuda.amp.autocast(args...)` is deprecated. Please use `torch.amp.autocast('cuda', args...)` instead.\n",
            "  with autocast():\n",
            "Val: 100%|██████████| 126/126 [00:16<00:00,  7.44it/s]\n"
          ]
        },
        {
          "output_type": "stream",
          "name": "stdout",
          "text": [
            "[FT] E5 train_loss:0.1086 acc:0.8553 | val_loss:0.7719 acc:0.6390 f1:0.6135\n"
          ]
        },
        {
          "output_type": "stream",
          "name": "stderr",
          "text": [
            "\rTrain E6:   0%|          | 0/501 [00:00<?, ?it/s]/tmp/ipython-input-1058869070.py:156: FutureWarning: `torch.cuda.amp.autocast(args...)` is deprecated. Please use `torch.amp.autocast('cuda', args...)` instead.\n",
            "  with autocast():\n",
            "Train E6: 100%|██████████| 501/501 [01:48<00:00,  4.61it/s]\n",
            "Val:   0%|          | 0/126 [00:00<?, ?it/s]/tmp/ipython-input-1058869070.py:176: FutureWarning: `torch.cuda.amp.autocast(args...)` is deprecated. Please use `torch.amp.autocast('cuda', args...)` instead.\n",
            "  with autocast():\n",
            "Val: 100%|██████████| 126/126 [00:16<00:00,  7.49it/s]\n"
          ]
        },
        {
          "output_type": "stream",
          "name": "stdout",
          "text": [
            "[FT] E6 train_loss:0.0980 acc:0.8645 | val_loss:0.7496 acc:0.6900 f1:0.6465\n"
          ]
        },
        {
          "output_type": "stream",
          "name": "stderr",
          "text": [
            "\rTrain E7:   0%|          | 0/501 [00:00<?, ?it/s]/tmp/ipython-input-1058869070.py:156: FutureWarning: `torch.cuda.amp.autocast(args...)` is deprecated. Please use `torch.amp.autocast('cuda', args...)` instead.\n",
            "  with autocast():\n",
            "Train E7: 100%|██████████| 501/501 [02:28<00:00,  3.37it/s]\n",
            "Val:   0%|          | 0/126 [00:00<?, ?it/s]/tmp/ipython-input-1058869070.py:176: FutureWarning: `torch.cuda.amp.autocast(args...)` is deprecated. Please use `torch.amp.autocast('cuda', args...)` instead.\n",
            "  with autocast():\n",
            "Val: 100%|██████████| 126/126 [00:17<00:00,  7.02it/s]\n"
          ]
        },
        {
          "output_type": "stream",
          "name": "stdout",
          "text": [
            "[FT] E7 train_loss:0.0856 acc:0.8672 | val_loss:0.7061 acc:0.6885 f1:0.5967\n"
          ]
        },
        {
          "output_type": "stream",
          "name": "stderr",
          "text": [
            "\rTrain E8:   0%|          | 0/501 [00:00<?, ?it/s]/tmp/ipython-input-1058869070.py:156: FutureWarning: `torch.cuda.amp.autocast(args...)` is deprecated. Please use `torch.amp.autocast('cuda', args...)` instead.\n",
            "  with autocast():\n",
            "Train E8: 100%|██████████| 501/501 [01:48<00:00,  4.63it/s]\n",
            "Val:   0%|          | 0/126 [00:00<?, ?it/s]/tmp/ipython-input-1058869070.py:176: FutureWarning: `torch.cuda.amp.autocast(args...)` is deprecated. Please use `torch.amp.autocast('cuda', args...)` instead.\n",
            "  with autocast():\n",
            "Val: 100%|██████████| 126/126 [00:17<00:00,  7.11it/s]\n"
          ]
        },
        {
          "output_type": "stream",
          "name": "stdout",
          "text": [
            "[FT] E8 train_loss:0.0958 acc:0.8708 | val_loss:0.7236 acc:0.7064 f1:0.6614\n"
          ]
        },
        {
          "output_type": "stream",
          "name": "stderr",
          "text": [
            "\rTrain E9:   0%|          | 0/501 [00:00<?, ?it/s]/tmp/ipython-input-1058869070.py:156: FutureWarning: `torch.cuda.amp.autocast(args...)` is deprecated. Please use `torch.amp.autocast('cuda', args...)` instead.\n",
            "  with autocast():\n",
            "Train E9: 100%|██████████| 501/501 [01:50<00:00,  4.55it/s]\n",
            "Val:   0%|          | 0/126 [00:00<?, ?it/s]/tmp/ipython-input-1058869070.py:176: FutureWarning: `torch.cuda.amp.autocast(args...)` is deprecated. Please use `torch.amp.autocast('cuda', args...)` instead.\n",
            "  with autocast():\n",
            "Val: 100%|██████████| 126/126 [00:16<00:00,  7.59it/s]\n"
          ]
        },
        {
          "output_type": "stream",
          "name": "stdout",
          "text": [
            "[FT] E9 train_loss:0.0675 acc:0.8890 | val_loss:0.7558 acc:0.7119 f1:0.6960\n"
          ]
        },
        {
          "output_type": "stream",
          "name": "stderr",
          "text": [
            "Train E10:   0%|          | 0/501 [00:00<?, ?it/s]/tmp/ipython-input-1058869070.py:156: FutureWarning: `torch.cuda.amp.autocast(args...)` is deprecated. Please use `torch.amp.autocast('cuda', args...)` instead.\n",
            "  with autocast():\n",
            "Train E10: 100%|██████████| 501/501 [01:47<00:00,  4.65it/s]\n",
            "Val:   0%|          | 0/126 [00:00<?, ?it/s]/tmp/ipython-input-1058869070.py:176: FutureWarning: `torch.cuda.amp.autocast(args...)` is deprecated. Please use `torch.amp.autocast('cuda', args...)` instead.\n",
            "  with autocast():\n",
            "Val: 100%|██████████| 126/126 [00:17<00:00,  7.25it/s]\n"
          ]
        },
        {
          "output_type": "stream",
          "name": "stdout",
          "text": [
            "[FT] E10 train_loss:0.0681 acc:0.8968 | val_loss:0.8512 acc:0.7154 f1:0.6683\n"
          ]
        },
        {
          "output_type": "stream",
          "name": "stderr",
          "text": [
            "\rTrain E11:   0%|          | 0/501 [00:00<?, ?it/s]/tmp/ipython-input-1058869070.py:156: FutureWarning: `torch.cuda.amp.autocast(args...)` is deprecated. Please use `torch.amp.autocast('cuda', args...)` instead.\n",
            "  with autocast():\n",
            "Train E11: 100%|██████████| 501/501 [01:46<00:00,  4.69it/s]\n",
            "Val:   0%|          | 0/126 [00:00<?, ?it/s]/tmp/ipython-input-1058869070.py:176: FutureWarning: `torch.cuda.amp.autocast(args...)` is deprecated. Please use `torch.amp.autocast('cuda', args...)` instead.\n",
            "  with autocast():\n",
            "Val: 100%|██████████| 126/126 [00:17<00:00,  7.11it/s]\n"
          ]
        },
        {
          "output_type": "stream",
          "name": "stdout",
          "text": [
            "[FT] E11 train_loss:0.0557 acc:0.9035 | val_loss:0.7726 acc:0.6915 f1:0.6812\n"
          ]
        },
        {
          "output_type": "stream",
          "name": "stderr",
          "text": [
            "\rTrain E12:   0%|          | 0/501 [00:00<?, ?it/s]/tmp/ipython-input-1058869070.py:156: FutureWarning: `torch.cuda.amp.autocast(args...)` is deprecated. Please use `torch.amp.autocast('cuda', args...)` instead.\n",
            "  with autocast():\n",
            "Train E12: 100%|██████████| 501/501 [01:47<00:00,  4.68it/s]\n",
            "Val:   0%|          | 0/126 [00:00<?, ?it/s]/tmp/ipython-input-1058869070.py:176: FutureWarning: `torch.cuda.amp.autocast(args...)` is deprecated. Please use `torch.amp.autocast('cuda', args...)` instead.\n",
            "  with autocast():\n",
            "Val: 100%|██████████| 126/126 [00:17<00:00,  7.05it/s]\n"
          ]
        },
        {
          "output_type": "stream",
          "name": "stdout",
          "text": [
            "[FT] E12 train_loss:0.0549 acc:0.9025 | val_loss:0.7413 acc:0.7249 f1:0.6854\n"
          ]
        },
        {
          "output_type": "stream",
          "name": "stderr",
          "text": [
            "\rTrain E13:   0%|          | 0/501 [00:00<?, ?it/s]/tmp/ipython-input-1058869070.py:156: FutureWarning: `torch.cuda.amp.autocast(args...)` is deprecated. Please use `torch.amp.autocast('cuda', args...)` instead.\n",
            "  with autocast():\n",
            "Train E13: 100%|██████████| 501/501 [01:47<00:00,  4.64it/s]\n",
            "Val:   0%|          | 0/126 [00:00<?, ?it/s]/tmp/ipython-input-1058869070.py:176: FutureWarning: `torch.cuda.amp.autocast(args...)` is deprecated. Please use `torch.amp.autocast('cuda', args...)` instead.\n",
            "  with autocast():\n",
            "Val: 100%|██████████| 126/126 [00:16<00:00,  7.50it/s]\n"
          ]
        },
        {
          "output_type": "stream",
          "name": "stdout",
          "text": [
            "[FT] E13 train_loss:0.0587 acc:0.9048 | val_loss:0.7214 acc:0.7793 f1:0.7033\n"
          ]
        },
        {
          "output_type": "stream",
          "name": "stderr",
          "text": [
            "\rTrain E14:   0%|          | 0/501 [00:00<?, ?it/s]/tmp/ipython-input-1058869070.py:156: FutureWarning: `torch.cuda.amp.autocast(args...)` is deprecated. Please use `torch.amp.autocast('cuda', args...)` instead.\n",
            "  with autocast():\n",
            "Train E14: 100%|██████████| 501/501 [01:48<00:00,  4.62it/s]\n",
            "Val:   0%|          | 0/126 [00:00<?, ?it/s]/tmp/ipython-input-1058869070.py:176: FutureWarning: `torch.cuda.amp.autocast(args...)` is deprecated. Please use `torch.amp.autocast('cuda', args...)` instead.\n",
            "  with autocast():\n",
            "Val: 100%|██████████| 126/126 [00:17<00:00,  7.26it/s]\n"
          ]
        },
        {
          "output_type": "stream",
          "name": "stdout",
          "text": [
            "[FT] E14 train_loss:0.0585 acc:0.9088 | val_loss:0.7293 acc:0.7429 f1:0.6988\n"
          ]
        },
        {
          "output_type": "stream",
          "name": "stderr",
          "text": [
            "\rTrain E15:   0%|          | 0/501 [00:00<?, ?it/s]/tmp/ipython-input-1058869070.py:156: FutureWarning: `torch.cuda.amp.autocast(args...)` is deprecated. Please use `torch.amp.autocast('cuda', args...)` instead.\n",
            "  with autocast():\n",
            "Train E15: 100%|██████████| 501/501 [01:46<00:00,  4.69it/s]\n",
            "Val:   0%|          | 0/126 [00:00<?, ?it/s]/tmp/ipython-input-1058869070.py:176: FutureWarning: `torch.cuda.amp.autocast(args...)` is deprecated. Please use `torch.amp.autocast('cuda', args...)` instead.\n",
            "  with autocast():\n",
            "Val: 100%|██████████| 126/126 [00:16<00:00,  7.63it/s]\n"
          ]
        },
        {
          "output_type": "stream",
          "name": "stdout",
          "text": [
            "[FT] E15 train_loss:0.0430 acc:0.9242 | val_loss:0.8529 acc:0.7364 f1:0.6924\n"
          ]
        },
        {
          "output_type": "stream",
          "name": "stderr",
          "text": [
            "\rTrain E16:   0%|          | 0/501 [00:00<?, ?it/s]/tmp/ipython-input-1058869070.py:156: FutureWarning: `torch.cuda.amp.autocast(args...)` is deprecated. Please use `torch.amp.autocast('cuda', args...)` instead.\n",
            "  with autocast():\n",
            "Train E16: 100%|██████████| 501/501 [01:48<00:00,  4.62it/s]\n",
            "Val:   0%|          | 0/126 [00:00<?, ?it/s]/tmp/ipython-input-1058869070.py:176: FutureWarning: `torch.cuda.amp.autocast(args...)` is deprecated. Please use `torch.amp.autocast('cuda', args...)` instead.\n",
            "  with autocast():\n",
            "Val: 100%|██████████| 126/126 [00:17<00:00,  7.04it/s]\n"
          ]
        },
        {
          "output_type": "stream",
          "name": "stdout",
          "text": [
            "[FT] E16 train_loss:0.0390 acc:0.9255 | val_loss:0.7625 acc:0.7514 f1:0.7147\n"
          ]
        },
        {
          "output_type": "stream",
          "name": "stderr",
          "text": [
            "\rTrain E17:   0%|          | 0/501 [00:00<?, ?it/s]/tmp/ipython-input-1058869070.py:156: FutureWarning: `torch.cuda.amp.autocast(args...)` is deprecated. Please use `torch.amp.autocast('cuda', args...)` instead.\n",
            "  with autocast():\n",
            "Train E17: 100%|██████████| 501/501 [01:47<00:00,  4.66it/s]\n",
            "Val:   0%|          | 0/126 [00:00<?, ?it/s]/tmp/ipython-input-1058869070.py:176: FutureWarning: `torch.cuda.amp.autocast(args...)` is deprecated. Please use `torch.amp.autocast('cuda', args...)` instead.\n",
            "  with autocast():\n",
            "Val: 100%|██████████| 126/126 [00:16<00:00,  7.59it/s]\n"
          ]
        },
        {
          "output_type": "stream",
          "name": "stdout",
          "text": [
            "[FT] E17 train_loss:0.0322 acc:0.9295 | val_loss:0.7970 acc:0.7409 f1:0.7046\n"
          ]
        },
        {
          "output_type": "stream",
          "name": "stderr",
          "text": [
            "\rTrain E18:   0%|          | 0/501 [00:00<?, ?it/s]/tmp/ipython-input-1058869070.py:156: FutureWarning: `torch.cuda.amp.autocast(args...)` is deprecated. Please use `torch.amp.autocast('cuda', args...)` instead.\n",
            "  with autocast():\n",
            "Train E18: 100%|██████████| 501/501 [01:48<00:00,  4.61it/s]\n",
            "Val:   0%|          | 0/126 [00:00<?, ?it/s]/tmp/ipython-input-1058869070.py:176: FutureWarning: `torch.cuda.amp.autocast(args...)` is deprecated. Please use `torch.amp.autocast('cuda', args...)` instead.\n",
            "  with autocast():\n",
            "Val: 100%|██████████| 126/126 [00:17<00:00,  7.24it/s]\n"
          ]
        },
        {
          "output_type": "stream",
          "name": "stdout",
          "text": [
            "[FT] E18 train_loss:0.0393 acc:0.9216 | val_loss:0.7765 acc:0.7753 f1:0.6881\n"
          ]
        },
        {
          "output_type": "stream",
          "name": "stderr",
          "text": [
            "\rTrain E19:   0%|          | 0/501 [00:00<?, ?it/s]/tmp/ipython-input-1058869070.py:156: FutureWarning: `torch.cuda.amp.autocast(args...)` is deprecated. Please use `torch.amp.autocast('cuda', args...)` instead.\n",
            "  with autocast():\n",
            "Train E19: 100%|██████████| 501/501 [01:47<00:00,  4.68it/s]\n",
            "Val:   0%|          | 0/126 [00:00<?, ?it/s]/tmp/ipython-input-1058869070.py:176: FutureWarning: `torch.cuda.amp.autocast(args...)` is deprecated. Please use `torch.amp.autocast('cuda', args...)` instead.\n",
            "  with autocast():\n",
            "Val: 100%|██████████| 126/126 [00:16<00:00,  7.57it/s]\n"
          ]
        },
        {
          "output_type": "stream",
          "name": "stdout",
          "text": [
            "[FT] E19 train_loss:0.0400 acc:0.9234 | val_loss:0.6357 acc:0.7733 f1:0.7042\n"
          ]
        },
        {
          "output_type": "stream",
          "name": "stderr",
          "text": [
            "\rTrain E20:   0%|          | 0/501 [00:00<?, ?it/s]/tmp/ipython-input-1058869070.py:156: FutureWarning: `torch.cuda.amp.autocast(args...)` is deprecated. Please use `torch.amp.autocast('cuda', args...)` instead.\n",
            "  with autocast():\n",
            "Train E20: 100%|██████████| 501/501 [01:47<00:00,  4.68it/s]\n",
            "Val:   0%|          | 0/126 [00:00<?, ?it/s]/tmp/ipython-input-1058869070.py:176: FutureWarning: `torch.cuda.amp.autocast(args...)` is deprecated. Please use `torch.amp.autocast('cuda', args...)` instead.\n",
            "  with autocast():\n",
            "Val: 100%|██████████| 126/126 [00:17<00:00,  7.01it/s]\n"
          ]
        },
        {
          "output_type": "stream",
          "name": "stdout",
          "text": [
            "[FT] E20 train_loss:0.0346 acc:0.9279 | val_loss:0.8591 acc:0.7559 f1:0.7003\n"
          ]
        },
        {
          "output_type": "stream",
          "name": "stderr",
          "text": [
            "\rTrain E21:   0%|          | 0/501 [00:00<?, ?it/s]/tmp/ipython-input-1058869070.py:156: FutureWarning: `torch.cuda.amp.autocast(args...)` is deprecated. Please use `torch.amp.autocast('cuda', args...)` instead.\n",
            "  with autocast():\n",
            "Train E21: 100%|██████████| 501/501 [01:48<00:00,  4.63it/s]\n",
            "Val:   0%|          | 0/126 [00:00<?, ?it/s]/tmp/ipython-input-1058869070.py:176: FutureWarning: `torch.cuda.amp.autocast(args...)` is deprecated. Please use `torch.amp.autocast('cuda', args...)` instead.\n",
            "  with autocast():\n",
            "Val: 100%|██████████| 126/126 [00:16<00:00,  7.52it/s]\n"
          ]
        },
        {
          "output_type": "stream",
          "name": "stdout",
          "text": [
            "[FT] E21 train_loss:0.0389 acc:0.9301 | val_loss:0.6440 acc:0.7923 f1:0.7240\n"
          ]
        },
        {
          "output_type": "stream",
          "name": "stderr",
          "text": [
            "\rTrain E22:   0%|          | 0/501 [00:00<?, ?it/s]/tmp/ipython-input-1058869070.py:156: FutureWarning: `torch.cuda.amp.autocast(args...)` is deprecated. Please use `torch.amp.autocast('cuda', args...)` instead.\n",
            "  with autocast():\n",
            "Train E22: 100%|██████████| 501/501 [01:46<00:00,  4.68it/s]\n",
            "Val:   0%|          | 0/126 [00:00<?, ?it/s]/tmp/ipython-input-1058869070.py:176: FutureWarning: `torch.cuda.amp.autocast(args...)` is deprecated. Please use `torch.amp.autocast('cuda', args...)` instead.\n",
            "  with autocast():\n",
            "Val: 100%|██████████| 126/126 [00:17<00:00,  7.08it/s]\n"
          ]
        },
        {
          "output_type": "stream",
          "name": "stdout",
          "text": [
            "[FT] E22 train_loss:0.0272 acc:0.9392 | val_loss:0.7034 acc:0.7988 f1:0.7375\n"
          ]
        },
        {
          "output_type": "stream",
          "name": "stderr",
          "text": [
            "\rTrain E23:   0%|          | 0/501 [00:00<?, ?it/s]/tmp/ipython-input-1058869070.py:156: FutureWarning: `torch.cuda.amp.autocast(args...)` is deprecated. Please use `torch.amp.autocast('cuda', args...)` instead.\n",
            "  with autocast():\n",
            "Train E23: 100%|██████████| 501/501 [01:48<00:00,  4.62it/s]\n",
            "Val:   0%|          | 0/126 [00:00<?, ?it/s]/tmp/ipython-input-1058869070.py:176: FutureWarning: `torch.cuda.amp.autocast(args...)` is deprecated. Please use `torch.amp.autocast('cuda', args...)` instead.\n",
            "  with autocast():\n",
            "Val: 100%|██████████| 126/126 [00:16<00:00,  7.62it/s]\n"
          ]
        },
        {
          "output_type": "stream",
          "name": "stdout",
          "text": [
            "[FT] E23 train_loss:0.0302 acc:0.9368 | val_loss:0.7418 acc:0.8208 f1:0.7316\n"
          ]
        },
        {
          "output_type": "stream",
          "name": "stderr",
          "text": [
            "\rTrain E24:   0%|          | 0/501 [00:00<?, ?it/s]/tmp/ipython-input-1058869070.py:156: FutureWarning: `torch.cuda.amp.autocast(args...)` is deprecated. Please use `torch.amp.autocast('cuda', args...)` instead.\n",
            "  with autocast():\n",
            "Train E24: 100%|██████████| 501/501 [01:47<00:00,  4.66it/s]\n",
            "Val:   0%|          | 0/126 [00:00<?, ?it/s]/tmp/ipython-input-1058869070.py:176: FutureWarning: `torch.cuda.amp.autocast(args...)` is deprecated. Please use `torch.amp.autocast('cuda', args...)` instead.\n",
            "  with autocast():\n",
            "Val: 100%|██████████| 126/126 [00:16<00:00,  7.50it/s]\n"
          ]
        },
        {
          "output_type": "stream",
          "name": "stdout",
          "text": [
            "[FT] E24 train_loss:0.0284 acc:0.9370 | val_loss:0.7732 acc:0.7609 f1:0.7044\n"
          ]
        },
        {
          "output_type": "stream",
          "name": "stderr",
          "text": [
            "\rTrain E25:   0%|          | 0/501 [00:00<?, ?it/s]/tmp/ipython-input-1058869070.py:156: FutureWarning: `torch.cuda.amp.autocast(args...)` is deprecated. Please use `torch.amp.autocast('cuda', args...)` instead.\n",
            "  with autocast():\n",
            "Train E25: 100%|██████████| 501/501 [01:48<00:00,  4.62it/s]\n",
            "Val:   0%|          | 0/126 [00:00<?, ?it/s]/tmp/ipython-input-1058869070.py:176: FutureWarning: `torch.cuda.amp.autocast(args...)` is deprecated. Please use `torch.amp.autocast('cuda', args...)` instead.\n",
            "  with autocast():\n",
            "Val: 100%|██████████| 126/126 [00:16<00:00,  7.62it/s]\n"
          ]
        },
        {
          "output_type": "stream",
          "name": "stdout",
          "text": [
            "[FT] E25 train_loss:0.0260 acc:0.9412 | val_loss:0.7277 acc:0.8008 f1:0.7348\n",
            "Best val macro F1: 0.7375195410959946\n"
          ]
        },
        {
          "output_type": "stream",
          "name": "stderr",
          "text": [
            "Val:   0%|          | 0/126 [00:00<?, ?it/s]/tmp/ipython-input-1058869070.py:176: FutureWarning: `torch.cuda.amp.autocast(args...)` is deprecated. Please use `torch.amp.autocast('cuda', args...)` instead.\n",
            "  with autocast():\n",
            "Val: 100%|██████████| 126/126 [00:16<00:00,  7.52it/s]"
          ]
        },
        {
          "output_type": "stream",
          "name": "stdout",
          "text": [
            "Final val acc: 0.7988017973040439 val f1: 0.7375195410959946\n",
            "              precision    recall  f1-score   support\n",
            "\n",
            "         bkl       0.11      1.00      0.20       220\n",
            "          nv       0.00      0.00      0.00      1341\n",
            "          df       0.00      0.00      0.00        23\n",
            "         mel       0.00      0.00      0.00       223\n",
            "        vasc       0.00      0.00      0.00        28\n",
            "         bcc       0.00      0.00      0.00       103\n",
            "       akiec       0.00      0.00      0.00        65\n",
            "\n",
            "    accuracy                           0.11      2003\n",
            "   macro avg       0.02      0.14      0.03      2003\n",
            "weighted avg       0.01      0.11      0.02      2003\n",
            "\n"
          ]
        },
        {
          "output_type": "stream",
          "name": "stderr",
          "text": [
            "\n"
          ]
        }
      ]
    },
    {
      "cell_type": "code",
      "source": [
        "# ========== SAVE STREAMLIT-READY MODEL ==========\n",
        "final_model_path = os.path.join(SAVE_PATH, \"ham10000_best_streamlit.pth\")\n",
        "\n",
        "torch.save({\n",
        "    \"model_state\": model.state_dict(),\n",
        "    \"label_map\": label_map,\n",
        "    \"idx2label\": {v: k for k, v in label_map.items()}\n",
        "}, final_model_path)\n",
        "\n",
        "print(f\"✅ Final model saved at {final_model_path}\")\n",
        "\n",
        "# ========== CONFUSION MATRIX ==========\n",
        "import seaborn as sns\n",
        "from sklearn.metrics import confusion_matrix\n",
        "\n",
        "model.load_state_dict(torch.load(os.path.join(SAVE_PATH, \"best_finetune.pth\")))\n",
        "model.eval()\n",
        "\n",
        "all_preds, all_labels = [], []\n",
        "with torch.no_grad():\n",
        "    for imgs, labels in val_loader:\n",
        "        imgs, labels = imgs.to(DEVICE), labels.to(DEVICE)\n",
        "        outputs = model(imgs)\n",
        "        preds = outputs.argmax(1)\n",
        "        all_preds.extend(preds.cpu().numpy())\n",
        "        all_labels.extend(labels.cpu().numpy())\n",
        "\n",
        "cm = confusion_matrix(all_labels, all_preds)\n",
        "plt.figure(figsize=(10,8))\n",
        "sns.heatmap(cm, annot=True, fmt=\"d\", cmap=\"Blues\",\n",
        "            xticklabels=list(label_map.keys()),\n",
        "            yticklabels=list(label_map.keys()))\n",
        "plt.xlabel(\"Predicted\")\n",
        "plt.ylabel(\"True\")\n",
        "plt.title(\"Confusion Matrix on Validation Set\")\n",
        "plt.show()\n",
        "\n",
        "\n",
        "# ========== PER-CLASS PRECISION & RECALL ==========\n",
        "from sklearn.metrics import precision_recall_fscore_support\n",
        "import numpy as np\n",
        "\n",
        "prec, rec, f1, _ = precision_recall_fscore_support(all_labels, all_preds, average=None, zero_division=0)\n",
        "\n",
        "x_labels = list(label_map.keys())\n",
        "x = np.arange(len(x_labels))\n",
        "\n",
        "plt.figure(figsize=(12,6))\n",
        "plt.bar(x - 0.2, prec, width=0.4, label=\"Precision\")\n",
        "plt.bar(x + 0.2, rec, width=0.4, label=\"Recall\")\n",
        "plt.xticks(x, x_labels, rotation=45)\n",
        "plt.ylabel(\"Score\")\n",
        "plt.title(\"Per-class Precision & Recall\")\n",
        "plt.legend()\n",
        "plt.show()\n"
      ],
      "metadata": {
        "colab": {
          "base_uri": "https://localhost:8080/",
          "height": 1000
        },
        "id": "gxTIpO1pEbeP",
        "outputId": "f18127ff-8b8e-48e9-a4d0-6a2ae9c3dbc3"
      },
      "execution_count": 65,
      "outputs": [
        {
          "output_type": "stream",
          "name": "stdout",
          "text": [
            "✅ Final model saved at /content/ham10000_checkpoints/ham10000_best_streamlit.pth\n"
          ]
        },
        {
          "output_type": "display_data",
          "data": {
            "text/plain": [
              "<Figure size 1000x800 with 2 Axes>"
            ],
            "image/png": "[encoded data removed]"
          },
          "metadata": {}
        },
        {
          "output_type": "display_data",
          "data": {
            "text/plain": [
              "<Figure size 1200x600 with 1 Axes>"
            ],
            "image/png": "[encoded data removed]"
          },
          "metadata": {}
        }
      ]
    }
  ]
}